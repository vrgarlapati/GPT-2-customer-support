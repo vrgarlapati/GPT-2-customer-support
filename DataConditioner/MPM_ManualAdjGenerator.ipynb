{
 "cells": [
  {
   "cell_type": "code",
   "execution_count": 1,
   "id": "fa47fcbf",
   "metadata": {},
   "outputs": [],
   "source": [
    "## Generates a template manual adjustment JSON file based on the contents of the Momentum Product Manual JSON\n",
    "\n",
    "\n",
    "#-------------- SETUP --------------\n",
    "# Import required libraries\n",
    "import os\n",
    "import json"
   ]
  },
  {
   "cell_type": "code",
   "execution_count": 2,
   "id": "fcee6d8e",
   "metadata": {},
   "outputs": [],
   "source": [
    "# Set environment variables & settings (edit these to fit environment)\n",
    "#Input File\n",
    "input_file_name    = 'MPM.json'\n",
    "input_file_root    = \"..\"\n",
    "input_file_folder  = os.path.join(\"Data\", \"Scraping\")\n",
    "#Output File\n",
    "output_file_name   = 'MPM_manual_adj_template.json'\n",
    "output_file_root   = \"..\"\n",
    "output_file_folder = os.path.join(\"Data\", \"Conditioning\")\n",
    "#List of article numberings to copy the article bodies for from the original MPM source file \n",
    "#(format: Product_Num.Section_Num.Article_Num)\n",
    "articles_to_copy   = ['1.1.3', '1.2.1', '1.2.2', '1.2.3', '1.2.4', '1.2.6', '1.2.7', '1.2.8', '1.3.3', '1.3.4', '1.3.5', \n",
    "                      '1.3.6', '1.4.1', '1.4.2', '1.4.3', '2.1.1', '2.1.3', '2.1.4', '2.2.1', '2.2.2', '2.2.3', '2.3.4', \n",
    "                      '2.2.5', '2.2.6', '2.2.7', '2.3.1', '2.3.2', '2.3.3', '2.4.1', '2.4.4', '3.2.1', '3.2.2', '3.2.3', \n",
    "                      '3.3.1', '3.3.5', '3.3.6', '3.3.7', '3.3.8', '3.3.9', '3.3.10', '3.3.11', '3.3.12', '3.3.13', \n",
    "                      '3.4.1', '3.4.2', '3.5.1', '3.5.2', '3.5.3', '3.5.4', '3.5.5', '3.5.6', '3.5.7', '3.5.8', '3.5.9', \n",
    "                      '3.6.1', '3.6.2', '3.7.1', '3.7.2', '3.8.1', '4.1.1', '4.2.1', '4.3.1']\n",
    "\n",
    "# Set other variables\n",
    "input_file_path    = os.path.join(input_file_root, input_file_folder, input_file_name)\n",
    "output_file_path   = os.path.join(output_file_root, output_file_folder, output_file_name)\n",
    "\n",
    "# Create a dictionary to hold the Product_Num mappings for the Product_Title\n",
    "product_num_map = {'Momentum' : 1, 'MLOps' : 2, 'Impulse EDW' : 3, 'Inset BI' : 4, 'APIs' : 5}"
   ]
  },
  {
   "cell_type": "code",
   "execution_count": 3,
   "id": "adefa8cf",
   "metadata": {},
   "outputs": [],
   "source": [
    "#-------------- MAIN --------------\n",
    "# Import the contents of the MPM JSON file\n",
    "f = open(input_file_path, encoding=\"utf-8\")\n",
    "data = json.load(f)\n",
    "f.close()"
   ]
  },
  {
   "cell_type": "code",
   "execution_count": 4,
   "id": "ff223756",
   "metadata": {},
   "outputs": [],
   "source": [
    "# Create variable to hold the contents of the replacement JSON objects\n",
    "replacement_jsons = []\n",
    "\n",
    "for article in data:\n",
    "    article_id = f\"{product_num_map[article['Product_Title']]}.{article['Section_Num']}.{article['Article_Num']}\"\n",
    "    body_text = article['Article_Body'] if (article_id in articles_to_copy) else ''\n",
    "    replacement_jsons.append({\"Product_Title\": article['Product_Title'],\n",
    "                              \"Section_Title\": article['Section_Title'],\n",
    "                              \"Article_Title\": article['Article_Title'],\n",
    "                              \"Article_ID\"   : article_id,\n",
    "                              \"Article_Body\" : body_text})"
   ]
  },
  {
   "cell_type": "code",
   "execution_count": 5,
   "id": "aadcc654",
   "metadata": {},
   "outputs": [],
   "source": [
    "# Create a new JSON file and write the product manual JSON objects to it\n",
    "f = open(output_file_path, \"w\", encoding=\"utf-8\")\n",
    "f.write(json.dumps(replacement_jsons, indent=4))\n",
    "f.close()"
   ]
  },
  {
   "cell_type": "code",
   "execution_count": null,
   "id": "1f04f9fa",
   "metadata": {},
   "outputs": [],
   "source": []
  }
 ],
 "metadata": {
  "kernelspec": {
   "display_name": "Python 3 (ipykernel)",
   "language": "python",
   "name": "python3"
  },
  "language_info": {
   "codemirror_mode": {
    "name": "ipython",
    "version": 3
   },
   "file_extension": ".py",
   "mimetype": "text/x-python",
   "name": "python",
   "nbconvert_exporter": "python",
   "pygments_lexer": "ipython3",
   "version": "3.9.7"
  }
 },
 "nbformat": 4,
 "nbformat_minor": 5
}

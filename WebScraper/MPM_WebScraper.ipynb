{
 "cells": [
  {
   "cell_type": "code",
   "execution_count": 1,
   "id": "100e7f7d",
   "metadata": {},
   "outputs": [],
   "source": [
    "## Retrieves all articles in the Momentum Product Manual (https://accure.ai/docs/)\n",
    "## and stores them in a plain text and JSON file with respective formats.\n",
    "\n",
    "\n",
    "#-------------- SETUP --------------\n",
    "# Import required libraries\n",
    "import requests\n",
    "import json\n",
    "import time\n",
    "import os\n",
    "from bs4 import BeautifulSoup"
   ]
  },
  {
   "cell_type": "code",
   "execution_count": 2,
   "id": "d48bf8d1",
   "metadata": {},
   "outputs": [],
   "source": [
    "# Set environment variables & settings (edit these to fit environment)\n",
    "#Accure Account Cookie - Find and paste key value pair for cookie created when logged into Acccure website\n",
    "#                        (e.g. 'wordpress_logged_in_...': '<username>...')\n",
    "acct_cookies = {\n",
    "    '': '',\n",
    "}\n",
    "#Output Files\n",
    "output_file_name   = \"MPM\"\n",
    "output_file_root   = \"..\"\n",
    "output_file_folder = os.path.join(\"Data\", \"Scraping\")\n",
    "\n",
    "# Set other variables\n",
    "output_file_path   = os.path.join(output_file_root, output_file_folder, output_file_name)\n",
    "\n",
    "# Create an ordered tuple corresponding to all the Momentum products (categories) in the manual\n",
    "products = ('Momentum', 'MLOps', 'Impulse EDW', 'Inset BI', 'APIs')\n",
    "\n",
    "# Create variables to hold the contents of all articles in text and JSON forms\n",
    "article_texts = []\n",
    "article_jsons = []"
   ]
  },
  {
   "cell_type": "code",
   "execution_count": 3,
   "id": "8e69f7fa",
   "metadata": {},
   "outputs": [],
   "source": [
    "#-------------- FUNCTIONS --------------\n",
    "# Create a function that retrieves the contents of articles and stores them in the list variables\n",
    "def store_article_contents(url, prod_num, section_title, section_num, article_num):\n",
    "    # Grab the contents of the current Momentum Product Manual article\n",
    "    response = requests.get(url)\n",
    "    soup = BeautifulSoup(response.content, 'html.parser')\n",
    "    \n",
    "    # Extract the article's title and body from the page contents\n",
    "    article_title = soup.find('h1', {'class': 'eckb-article-title'}).text\n",
    "    article_body = soup.find('div', {'id': 'eckb-article-content-body'}).get_text()\n",
    "    \n",
    "    # Combine the title and body to form the page's text and store it in the texts list\n",
    "    article_texts.append(\" \\n\".join((article_title,article_body)))\n",
    "    \n",
    "    # Create a dictionary with all the mapped values and store it in the JSONs list \n",
    "    article_jsons.append({\"URL\"          : url,\n",
    "                          \"Product_Title\": products[prod_num],\n",
    "                          \"Section_Title\": section_title,\n",
    "                          \"Section_Num\"  : section_num,\n",
    "                          \"Article_Title\": article_title,\n",
    "                          \"Article_Num\"  : article_num,\n",
    "                          \"Article_Body\" : article_body})"
   ]
  },
  {
   "cell_type": "code",
   "execution_count": 4,
   "id": "a9e39014",
   "metadata": {},
   "outputs": [],
   "source": [
    "#-------------- MAIN --------------\n",
    "# Grab the contents of the Momentum Product Manual index page\n",
    "docs_url = 'https://accure.ai/docs/'\n",
    "response = requests.get(docs_url, cookies=acct_cookies)\n",
    "\n",
    "# Extract the URLs for all articles in the index, keeping track of section and article numbers\n",
    "soup = BeautifulSoup(response.content, 'html.parser')\n",
    "prod_num = -1\n",
    "for category in soup.find('div', {'class':'epkb-panel-container'}).find_all('div', recursive=False):\n",
    "    prod_num += 1\n",
    "    sec_num = 0\n",
    "    for section in category.find_all('section', recursive=False):\n",
    "        sec_num += 1\n",
    "        art_num = 0\n",
    "        sec_title = section.find('h3', {'class':'epkb-cat-name'}).text\n",
    "        for url in [url['href'] for url in section.find_all('a',{'class':'epkb-mp-article'})]:\n",
    "            art_num += 1\n",
    "            time.sleep(1)\n",
    "            store_article_contents(url, prod_num, sec_title, sec_num, art_num)"
   ]
  },
  {
   "cell_type": "code",
   "execution_count": 5,
   "id": "02a1916b",
   "metadata": {},
   "outputs": [],
   "source": [
    "# Create a new plaintext file and write the product manual text to it\n",
    "f = open(f\"{output_file_path}.txt\", \"w\", encoding=\"utf-8\")\n",
    "f.write('\\n\\n'.join(article_texts))\n",
    "f.close()\n",
    "\n",
    "# Create a new JSON file and write the product manual JSON objects to it\n",
    "f = open(f\"{output_file_path}.json\", \"w\", encoding=\"utf-8\")\n",
    "f.write(json.dumps(article_jsons, indent=4))\n",
    "f.close()"
   ]
  },
  {
   "cell_type": "code",
   "execution_count": null,
   "id": "b56db57a",
   "metadata": {},
   "outputs": [],
   "source": []
  }
 ],
 "metadata": {
  "kernelspec": {
   "display_name": "Python 3 (ipykernel)",
   "language": "python",
   "name": "python3"
  },
  "language_info": {
   "codemirror_mode": {
    "name": "ipython",
    "version": 3
   },
   "file_extension": ".py",
   "mimetype": "text/x-python",
   "name": "python",
   "nbconvert_exporter": "python",
   "pygments_lexer": "ipython3",
   "version": "3.9.7"
  }
 },
 "nbformat": 4,
 "nbformat_minor": 5
}

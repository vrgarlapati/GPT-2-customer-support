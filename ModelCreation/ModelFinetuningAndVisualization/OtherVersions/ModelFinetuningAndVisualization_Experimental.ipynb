{
 "cells": [
  {
   "cell_type": "markdown",
   "id": "03a9649a",
   "metadata": {},
   "source": [
    "IMPORTING LIBRARIES"
   ]
  },
  {
   "cell_type": "code",
   "execution_count": 2,
   "id": "46b83a36",
   "metadata": {
    "scrolled": true
   },
   "outputs": [],
   "source": [
    "from datasets import load_dataset\n",
    "from transformers import DataCollatorForLanguageModeling, AutoTokenizer, AutoModelForCausalLM, TrainingArguments, Trainer\n",
    "import torch\n",
    "import matplotlib.pyplot as plt\n",
    "import numpy as np"
   ]
  },
  {
   "cell_type": "markdown",
   "id": "f365a9bb",
   "metadata": {},
   "source": [
    "CODE TO CHECK IF THE GPU IS DETECTED"
   ]
  },
  {
   "cell_type": "code",
   "execution_count": 3,
   "id": "260c9317",
   "metadata": {},
   "outputs": [
    {
     "name": "stdout",
     "output_type": "stream",
     "text": [
      "Found device: NVIDIA A100-SXM-80GB MIG 2g.20gb, n_gpu: 1\n"
     ]
    }
   ],
   "source": [
    "import torch\n",
    "torch.cuda.empty_cache()\n",
    "\n",
    "assert torch.cuda.is_available()\n",
    "\n",
    "#Get the GPU device name.\n",
    "device_name = torch.cuda.get_device_name()\n",
    "n_gpu = torch.cuda.device_count()\n",
    "print(f\"Found device: {device_name}, n_gpu: {n_gpu}\")\n",
    "device = torch.device(\"cuda\")"
   ]
  },
  {
   "cell_type": "markdown",
   "id": "7d9b10db",
   "metadata": {},
   "source": [
    "LOAD THE DATASET"
   ]
  },
  {
   "cell_type": "code",
   "execution_count": 4,
   "id": "95e761bf",
   "metadata": {
    "scrolled": true
   },
   "outputs": [
    {
     "name": "stderr",
     "output_type": "stream",
     "text": [
      "Found cached dataset json (/home/kkonatha/.cache/huggingface/datasets/json/default-688fdf028d397096/0.0.0/fe5dd6ea2639a6df622901539cb550cf8797e5a6b2dd7af1cf934bed8e233e6e)\n",
      "100%|██████████| 1/1 [00:00<00:00, 45.38it/s]\n"
     ]
    },
    {
     "data": {
      "text/plain": [
       "{'URL': 'https://accure.ai/docs/momentum-user-guide/getting-started-with-momentum/1-getting-started-with-momentum/',\n",
       " 'Product_Title': 'Momentum',\n",
       " 'Section_Title': 'Getting Started with Momentum',\n",
       " 'Section_Num': 1,\n",
       " 'Article_Title': 'Accessing Momentum',\n",
       " 'Article_Num': 1,\n",
       " 'Article_Body': 'Momentum is a web-based system that is accessible via a web browser. To launch Momentum, point your browser address to: \\nhttp://<public-ip-or-domain>:8800/mv-admin \\nIf you installed Momentum from AWS marketplace, the default port to access Momentum is 8800. \\nThe above URL will launch the login page.'}"
      ]
     },
     "execution_count": 4,
     "metadata": {},
     "output_type": "execute_result"
    }
   ],
   "source": [
    "#how to train the model without a test set.\n",
    "momentum = load_dataset('json', data_files='MPM.json')\n",
    "#momentum = load_dataset('json', data_files='MPM_conditioned.json', split = 'train')\n",
    "#momentum = momentum.train_test_split(test_size=0.2)\n",
    "flattened_mpm = momentum.flatten()\n",
    "example = flattened_mpm[\"train\"][0]\n",
    "example"
   ]
  },
  {
   "cell_type": "markdown",
   "id": "618e219f",
   "metadata": {},
   "source": [
    "TOKENIZE THE DATA AND ADD THE PAD TOKENS TO THE DATA"
   ]
  },
  {
   "cell_type": "code",
   "execution_count": 5,
   "id": "edb736d6",
   "metadata": {},
   "outputs": [],
   "source": [
    "tokenizer = AutoTokenizer.from_pretrained(\"gpt2\")\n",
    "tokenizer.pad_token = tokenizer.eos_token\n",
    "if tokenizer.pad_token is None:\n",
    "    tokenizer.add_special_tokens({'pad_token': '[PAD]'})"
   ]
  },
  {
   "cell_type": "markdown",
   "id": "9469ef83",
   "metadata": {},
   "source": [
    "PREPROCESS THE DATA WITH THE REQUIRED FIELDS"
   ]
  },
  {
   "cell_type": "code",
   "execution_count": 6,
   "id": "40626b85",
   "metadata": {},
   "outputs": [],
   "source": [
    "def preprocess_function(examples):\n",
    "    articles = [\" \".join(article.split()) for article in examples[\"Article_Body\"]]\n",
    "    return tokenizer(articles, truncation=True)"
   ]
  },
  {
   "cell_type": "markdown",
   "id": "bb08e0c3",
   "metadata": {},
   "source": [
    "MAP THE TOKENIZED DATA"
   ]
  },
  {
   "cell_type": "code",
   "execution_count": 7,
   "id": "2250e1ed",
   "metadata": {},
   "outputs": [
    {
     "name": "stderr",
     "output_type": "stream",
     "text": [
      "Loading cached processed dataset at /home/kkonatha/.cache/huggingface/datasets/json/default-688fdf028d397096/0.0.0/fe5dd6ea2639a6df622901539cb550cf8797e5a6b2dd7af1cf934bed8e233e6e/cache-6d5262b5f5ab4d71_*_of_00004.arrow\n"
     ]
    }
   ],
   "source": [
    "tokenized_mpm = flattened_mpm.map(\n",
    "    preprocess_function,\n",
    "    batched=True,\n",
    "    num_proc=4,\n",
    "    remove_columns=momentum[\"train\"].column_names,\n",
    ")"
   ]
  },
  {
   "cell_type": "markdown",
   "id": "ce76ac4e",
   "metadata": {},
   "source": [
    "ENCODE THE DATA WITH THE FIXED BLOCK SIZE"
   ]
  },
  {
   "cell_type": "code",
   "execution_count": 8,
   "id": "c03582a7",
   "metadata": {},
   "outputs": [],
   "source": [
    "block_size = 60\n",
    "\n",
    "def group_texts(examples):\n",
    "    concatenated_examples = {k: sum(examples[k], []) for k in examples.keys()}\n",
    "    total_length = len(concatenated_examples[list(examples.keys())[0]])\n",
    "    total_length = (total_length // block_size) * block_size\n",
    "    result = {\n",
    "        k: [t[i : i + block_size] for i in range(0, total_length, block_size)]\n",
    "        for k, t in concatenated_examples.items()\n",
    "    }\n",
    "    result[\"labels\"] = result[\"input_ids\"].copy()\n",
    "    return result"
   ]
  },
  {
   "cell_type": "markdown",
   "id": "f6b19061",
   "metadata": {},
   "source": [
    "PREPROCESSED DATA FOR FINE TUNING"
   ]
  },
  {
   "cell_type": "code",
   "execution_count": 9,
   "id": "a60bd30a",
   "metadata": {
    "scrolled": false
   },
   "outputs": [
    {
     "name": "stderr",
     "output_type": "stream",
     "text": [
      "Loading cached processed dataset at /home/kkonatha/.cache/huggingface/datasets/json/default-688fdf028d397096/0.0.0/fe5dd6ea2639a6df622901539cb550cf8797e5a6b2dd7af1cf934bed8e233e6e/cache-009e96c3dae15ad6_*_of_00004.arrow\n"
     ]
    }
   ],
   "source": [
    "mpm_dataset = tokenized_mpm.map(group_texts, batched=True, num_proc=4)"
   ]
  },
  {
   "cell_type": "code",
   "execution_count": 10,
   "id": "ed3ee7b3",
   "metadata": {},
   "outputs": [
    {
     "data": {
      "text/plain": [
       "DatasetDict({\n",
       "    train: Dataset({\n",
       "        features: ['input_ids', 'attention_mask', 'labels'],\n",
       "        num_rows: 352\n",
       "    })\n",
       "})"
      ]
     },
     "execution_count": 10,
     "metadata": {},
     "output_type": "execute_result"
    }
   ],
   "source": [
    "mpm_dataset"
   ]
  },
  {
   "cell_type": "code",
   "execution_count": 11,
   "id": "3d8e146a",
   "metadata": {},
   "outputs": [],
   "source": [
    "data_collator = DataCollatorForLanguageModeling(tokenizer=tokenizer, mlm=False)"
   ]
  },
  {
   "cell_type": "code",
   "execution_count": 12,
   "id": "242493ed",
   "metadata": {},
   "outputs": [],
   "source": [
    "from transformers import AutoModelForCausalLM, TrainingArguments, Trainer\n",
    "import torch\n",
    "\n",
    "mpm_model = AutoModelForCausalLM.from_pretrained(\"gpt2\")"
   ]
  },
  {
   "cell_type": "code",
   "execution_count": 13,
   "id": "c2391de1",
   "metadata": {},
   "outputs": [
    {
     "name": "stdout",
     "output_type": "stream",
     "text": [
      "Input shape: (1024, None)\n"
     ]
    }
   ],
   "source": [
    "import torch\n",
    "\n",
    "# Get the underlying PyTorch model\n",
    "model = mpm_model.transformer\n",
    "\n",
    "# Compute the expected sequence length from the model configuration\n",
    "seq_length = mpm_model.config.n_positions\n",
    "\n",
    "# Compute the expected input shape\n",
    "input_shape = (seq_length, None)\n",
    "\n",
    "print(\"Input shape:\", input_shape)"
   ]
  },
  {
   "cell_type": "markdown",
   "id": "c818b43f",
   "metadata": {},
   "source": [
    "TRAINING THE DATA"
   ]
  },
  {
   "cell_type": "code",
   "execution_count": 14,
   "id": "23262879",
   "metadata": {},
   "outputs": [
    {
     "name": "stderr",
     "output_type": "stream",
     "text": [
      "/scratch/kkonatha/kk/lib/python3.9/site-packages/transformers/optimization.py:391: FutureWarning: This implementation of AdamW is deprecated and will be removed in a future version. Use the PyTorch implementation torch.optim.AdamW instead, or set `no_deprecation_warning=True` to disable this warning\n",
      "  warnings.warn(\n",
      "You're using a GPT2TokenizerFast tokenizer. Please note that with a fast tokenizer, using the `__call__` method is faster than using a method to encode the text followed by a call to the `pad` method to get a padded encoding.\n"
     ]
    },
    {
     "data": {
      "text/html": [
       "\n",
       "    <div>\n",
       "      \n",
       "      <progress value='4500' max='4500' style='width:300px; height:20px; vertical-align: middle;'></progress>\n",
       "      [4500/4500 1:01:40, Epoch 818/900]\n",
       "    </div>\n",
       "    <table border=\"1\" class=\"dataframe\">\n",
       "  <thead>\n",
       " <tr style=\"text-align: left;\">\n",
       "      <th>Step</th>\n",
       "      <th>Training Loss</th>\n",
       "    </tr>\n",
       "  </thead>\n",
       "  <tbody>\n",
       "  </tbody>\n",
       "</table><p>"
      ],
      "text/plain": [
       "<IPython.core.display.HTML object>"
      ]
     },
     "metadata": {},
     "output_type": "display_data"
    }
   ],
   "source": [
    "import matplotlib.pyplot as plt\n",
    "import numpy as np\n",
    "from transformers import TrainerCallback\n",
    "import json\n",
    "\n",
    "class LoggingCallback(TrainerCallback):\n",
    "    def __init__(self):\n",
    "        self.log_history = []\n",
    "\n",
    "    def on_train_begin(self, args, state, control, **kwargs):\n",
    "        self.log_history = []\n",
    "\n",
    "    def on_log(self, args, state, control, logs=None, **kwargs):\n",
    "        self.log_history.append(logs)\n",
    "\n",
    "training_args = TrainingArguments( \n",
    "    output_dir=\"gpt_model\",\n",
    "    overwrite_output_dir=True,\n",
    "    learning_rate=8e-5, # decreased learning rate\n",
    "    weight_decay=0.01,\n",
    "    num_train_epochs=900,\n",
    "    logging_steps=100000,\n",
    "    save_total_limit=2,\n",
    "    per_device_train_batch_size=16, # increased batch size\n",
    "    gradient_accumulation_steps=4, # added gradient accumulation\n",
    "    save_steps=10_000,\n",
    "    evaluation_strategy='no'\n",
    ")\n",
    "\n",
    "\n",
    "logging_callback = LoggingCallback()\n",
    "\n",
    "trainer = Trainer(\n",
    "    model=mpm_model,\n",
    "    args=training_args,\n",
    "    data_collator=data_collator,\n",
    "    train_dataset=mpm_dataset['train'],\n",
    "    callbacks=[logging_callback]\n",
    ")\n",
    "\n",
    "train_output = trainer.train()\n",
    "\n",
    "# compute train results\n",
    "metrics = train_output.metrics\n",
    "max_train_samples = len(mpm_dataset)\n",
    "metrics[\"train_samples\"] = min(max_train_samples, len(mpm_dataset))\n",
    "\n",
    "# save train results to JSON file\n",
    "with open(\"train_metrics.json\", \"w\") as f:\n",
    "    json.dump(metrics, f)\n",
    "\n",
    "# save log history to JSON file\n",
    "with open(\"train_logs.json\", \"w\") as f:\n",
    "    json.dump(logging_callback.log_history, f)\n"
   ]
  },
  {
   "cell_type": "markdown",
   "id": "87a68d50",
   "metadata": {},
   "source": [
    "SAVE THE MODEL"
   ]
  },
  {
   "cell_type": "code",
   "execution_count": 32,
   "id": "2ded57ff",
   "metadata": {
    "scrolled": true
   },
   "outputs": [],
   "source": [
    "mpm_model.save_pretrained('/scratch/kkonatha/p1') #then need to load it to generate a test"
   ]
  },
  {
   "cell_type": "markdown",
   "id": "f38db7b2",
   "metadata": {},
   "source": [
    "PROMPT GENERATION"
   ]
  },
  {
   "cell_type": "code",
   "execution_count": 45,
   "id": "7ca9b811",
   "metadata": {},
   "outputs": [
    {
     "name": "stderr",
     "output_type": "stream",
     "text": [
      "The attention mask and the pad token id were not set. As a consequence, you may observe unexpected behavior. Please pass your input's `attention_mask` to obtain reliable results.\n",
      "Setting `pad_token_id` to `eos_token_id`:50256 for open-end generation.\n"
     ]
    },
    {
     "name": "stdout",
     "output_type": "stream",
     "text": [
      "You must be an admin to perform the following operations to monitor system services and manage their running statuses. Main navigation menu –> Expand Users and Roles –> Manage UsersClick Edit link located at the far right column of the user you want to editYou can update user information and save. Reset User Password There are two ways to reset user password: Send Password Reset Link: This is a secure way to send a link to user’s email. The user should follow the link to change their password. This feature will work only if the email service (SMTP config) is configured. The user should follow the link to change their password. This feature will work only if the email service (SMTP config) is configured. This feature will work only if the email service (SMTP config) is configured.Generate Temp Password: This will create a random password that you can share with the user. User must change this password on the first login. Assign or Revoke Access Roles To add additional roles to this user, check the boxes corresponding to the role/roles you want to assign to this user.To remove roles, uncheck the box you want to remove the roles from this user’s access.Click Update button to save the changes.You must be an admin to perform the following operations to monitor system services and manage their running statuses. Main navigation menu –> Expand Users and Roles –> Manage UsersClick Edit link located at\n"
     ]
    }
   ],
   "source": [
    "from transformers import AutoTokenizer, AutoModelForCausalLM\n",
    "import torch\n",
    "\n",
    "# load the model and tokenizer\n",
    "model_name = \"gpt2\"\n",
    "tokenizer = AutoTokenizer.from_pretrained(model_name)\n",
    "tokenizer.add_special_tokens({'pad_token': tokenizer.eos_token})\n",
    "model = AutoModelForCausalLM.from_pretrained(\"/scratch/kkonatha/p1\")\n",
    "\n",
    "# get the article bodies from the dataset\n",
    "article_bodies = [example['Article_Body'] for example in flattened_mpm['train']]\n",
    "\n",
    "# generate text from a given prompt\n",
    "prompt = \"What is \"   \n",
    "found_prompt = False\n",
    "\n",
    "for body in article_bodies:\n",
    "    if prompt in body:\n",
    "        # prompt is in the dataset\n",
    "        found_prompt = True\n",
    "        encoded_prompt = tokenizer.encode(prompt, return_tensors='pt', padding=True, truncation=True)\n",
    "        output = model.generate(\n",
    "            input_ids=encoded_prompt,\n",
    "            max_length=300,\n",
    "            do_sample=True,\n",
    "            temperature=0.2,\n",
    "            top_p=0.95,\n",
    "            top_k=50\n",
    "        )\n",
    "        generated_text = tokenizer.decode(output[0], skip_special_tokens=True)\n",
    "        print(generated_text)\n",
    "        break\n",
    "\n",
    "if not found_prompt:\n",
    "    # prompt not in the dataset\n",
    "    print(\"Please kindly contact the accure support team.\")\n"
   ]
  },
  {
   "cell_type": "code",
   "execution_count": 28,
   "id": "f1664efd",
   "metadata": {
    "scrolled": true
   },
   "outputs": [
    {
     "name": "stderr",
     "output_type": "stream",
     "text": [
      "Found cached dataset json (/home/kkonatha/.cache/huggingface/datasets/json/default-688fdf028d397096/0.0.0/fe5dd6ea2639a6df622901539cb550cf8797e5a6b2dd7af1cf934bed8e233e6e)\n",
      "100%|██████████| 1/1 [00:00<00:00, 595.70it/s]\n",
      "Loading cached processed dataset at /home/kkonatha/.cache/huggingface/datasets/json/default-688fdf028d397096/0.0.0/fe5dd6ea2639a6df622901539cb550cf8797e5a6b2dd7af1cf934bed8e233e6e/cache-6d5262b5f5ab4d71_*_of_00004.arrow\n",
      "Loading cached processed dataset at /home/kkonatha/.cache/huggingface/datasets/json/default-688fdf028d397096/0.0.0/fe5dd6ea2639a6df622901539cb550cf8797e5a6b2dd7af1cf934bed8e233e6e/cache-009e96c3dae15ad6_*_of_00004.arrow\n"
     ]
    },
    {
     "name": "stdout",
     "output_type": "stream",
     "text": [
      "\n",
      "\n",
      "Fold 1 of 5\n",
      "\n",
      "\n"
     ]
    },
    {
     "name": "stderr",
     "output_type": "stream",
     "text": [
      "You're using a GPT2TokenizerFast tokenizer. Please note that with a fast tokenizer, using the `__call__` method is faster than using a method to encode the text followed by a call to the `pad` method to get a padded encoding.\n"
     ]
    },
    {
     "data": {
      "text/html": [
       "\n",
       "    <div>\n",
       "      \n",
       "      <progress value='3600' max='3600' style='width:300px; height:20px; vertical-align: middle;'></progress>\n",
       "      [3600/3600 48:16, Epoch 800/900]\n",
       "    </div>\n",
       "    <table border=\"1\" class=\"dataframe\">\n",
       "  <thead>\n",
       " <tr style=\"text-align: left;\">\n",
       "      <th>Step</th>\n",
       "      <th>Training Loss</th>\n",
       "    </tr>\n",
       "  </thead>\n",
       "  <tbody>\n",
       "  </tbody>\n",
       "</table><p>"
      ],
      "text/plain": [
       "<IPython.core.display.HTML object>"
      ]
     },
     "metadata": {},
     "output_type": "display_data"
    },
    {
     "data": {
      "text/html": [
       "\n",
       "    <div>\n",
       "      \n",
       "      <progress value='9' max='9' style='width:300px; height:20px; vertical-align: middle;'></progress>\n",
       "      [9/9 00:00]\n",
       "    </div>\n",
       "    "
      ],
      "text/plain": [
       "<IPython.core.display.HTML object>"
      ]
     },
     "metadata": {},
     "output_type": "display_data"
    },
    {
     "name": "stdout",
     "output_type": "stream",
     "text": [
      "Perplexity: 366.85943072544615\n",
      "\n",
      "\n",
      "\n",
      "\n",
      "Fold 2 of 5\n",
      "\n",
      "\n"
     ]
    },
    {
     "data": {
      "text/html": [
       "\n",
       "    <div>\n",
       "      \n",
       "      <progress value='3600' max='3600' style='width:300px; height:20px; vertical-align: middle;'></progress>\n",
       "      [3600/3600 48:15, Epoch 800/900]\n",
       "    </div>\n",
       "    <table border=\"1\" class=\"dataframe\">\n",
       "  <thead>\n",
       " <tr style=\"text-align: left;\">\n",
       "      <th>Step</th>\n",
       "      <th>Training Loss</th>\n",
       "    </tr>\n",
       "  </thead>\n",
       "  <tbody>\n",
       "  </tbody>\n",
       "</table><p>"
      ],
      "text/plain": [
       "<IPython.core.display.HTML object>"
      ]
     },
     "metadata": {},
     "output_type": "display_data"
    },
    {
     "data": {
      "text/html": [
       "\n",
       "    <div>\n",
       "      \n",
       "      <progress value='9' max='9' style='width:300px; height:20px; vertical-align: middle;'></progress>\n",
       "      [9/9 00:00]\n",
       "    </div>\n",
       "    "
      ],
      "text/plain": [
       "<IPython.core.display.HTML object>"
      ]
     },
     "metadata": {},
     "output_type": "display_data"
    },
    {
     "name": "stdout",
     "output_type": "stream",
     "text": [
      "Perplexity: 412.5411697151414\n",
      "\n",
      "\n",
      "\n",
      "\n",
      "Fold 3 of 5\n",
      "\n",
      "\n"
     ]
    },
    {
     "data": {
      "text/html": [
       "\n",
       "    <div>\n",
       "      \n",
       "      <progress value='3600' max='3600' style='width:300px; height:20px; vertical-align: middle;'></progress>\n",
       "      [3600/3600 48:29, Epoch 800/900]\n",
       "    </div>\n",
       "    <table border=\"1\" class=\"dataframe\">\n",
       "  <thead>\n",
       " <tr style=\"text-align: left;\">\n",
       "      <th>Step</th>\n",
       "      <th>Training Loss</th>\n",
       "    </tr>\n",
       "  </thead>\n",
       "  <tbody>\n",
       "  </tbody>\n",
       "</table><p>"
      ],
      "text/plain": [
       "<IPython.core.display.HTML object>"
      ]
     },
     "metadata": {},
     "output_type": "display_data"
    },
    {
     "data": {
      "text/html": [
       "\n",
       "    <div>\n",
       "      \n",
       "      <progress value='9' max='9' style='width:300px; height:20px; vertical-align: middle;'></progress>\n",
       "      [9/9 00:00]\n",
       "    </div>\n",
       "    "
      ],
      "text/plain": [
       "<IPython.core.display.HTML object>"
      ]
     },
     "metadata": {},
     "output_type": "display_data"
    },
    {
     "name": "stdout",
     "output_type": "stream",
     "text": [
      "Perplexity: 302.72572745435554\n",
      "\n",
      "\n",
      "\n",
      "\n",
      "Fold 4 of 5\n",
      "\n",
      "\n"
     ]
    },
    {
     "data": {
      "text/html": [
       "\n",
       "    <div>\n",
       "      \n",
       "      <progress value='3600' max='3600' style='width:300px; height:20px; vertical-align: middle;'></progress>\n",
       "      [3600/3600 48:27, Epoch 800/900]\n",
       "    </div>\n",
       "    <table border=\"1\" class=\"dataframe\">\n",
       "  <thead>\n",
       " <tr style=\"text-align: left;\">\n",
       "      <th>Step</th>\n",
       "      <th>Training Loss</th>\n",
       "    </tr>\n",
       "  </thead>\n",
       "  <tbody>\n",
       "  </tbody>\n",
       "</table><p>"
      ],
      "text/plain": [
       "<IPython.core.display.HTML object>"
      ]
     },
     "metadata": {},
     "output_type": "display_data"
    },
    {
     "data": {
      "text/html": [
       "\n",
       "    <div>\n",
       "      \n",
       "      <progress value='9' max='9' style='width:300px; height:20px; vertical-align: middle;'></progress>\n",
       "      [9/9 00:00]\n",
       "    </div>\n",
       "    "
      ],
      "text/plain": [
       "<IPython.core.display.HTML object>"
      ]
     },
     "metadata": {},
     "output_type": "display_data"
    },
    {
     "name": "stdout",
     "output_type": "stream",
     "text": [
      "Perplexity: 325.63436905756834\n",
      "\n",
      "\n",
      "\n",
      "\n",
      "Fold 5 of 5\n",
      "\n",
      "\n"
     ]
    },
    {
     "data": {
      "text/html": [
       "\n",
       "    <div>\n",
       "      \n",
       "      <progress value='3600' max='3600' style='width:300px; height:20px; vertical-align: middle;'></progress>\n",
       "      [3600/3600 48:29, Epoch 800/900]\n",
       "    </div>\n",
       "    <table border=\"1\" class=\"dataframe\">\n",
       "  <thead>\n",
       " <tr style=\"text-align: left;\">\n",
       "      <th>Step</th>\n",
       "      <th>Training Loss</th>\n",
       "    </tr>\n",
       "  </thead>\n",
       "  <tbody>\n",
       "  </tbody>\n",
       "</table><p>"
      ],
      "text/plain": [
       "<IPython.core.display.HTML object>"
      ]
     },
     "metadata": {},
     "output_type": "display_data"
    },
    {
     "data": {
      "text/html": [
       "\n",
       "    <div>\n",
       "      \n",
       "      <progress value='9' max='9' style='width:300px; height:20px; vertical-align: middle;'></progress>\n",
       "      [9/9 00:00]\n",
       "    </div>\n",
       "    "
      ],
      "text/plain": [
       "<IPython.core.display.HTML object>"
      ]
     },
     "metadata": {},
     "output_type": "display_data"
    },
    {
     "name": "stdout",
     "output_type": "stream",
     "text": [
      "Perplexity: 689.1881803572167\n",
      "\n",
      "\n"
     ]
    },
    {
     "data": {
      "image/png": "[encoded data removed]",
      "text/plain": [
       "<Figure size 640x480 with 1 Axes>"
      ]
     },
     "metadata": {},
     "output_type": "display_data"
    }
   ],
   "source": [
    "from sklearn.model_selection import KFold\n",
    "from datasets import load_dataset\n",
    "from transformers import DataCollatorForLanguageModeling, AutoTokenizer, AutoModelForCausalLM, TrainingArguments, Trainer\n",
    "import torch\n",
    "import matplotlib.pyplot as plt\n",
    "import numpy as np\n",
    "\n",
    "\n",
    "# Load the data and preprocess it.\n",
    "momentum = load_dataset('json', data_files='MPM.json')\n",
    "flattened_mpm = momentum.flatten()\n",
    "tokenizer = AutoTokenizer.from_pretrained(\"gpt2\")\n",
    "tokenizer.pad_token = tokenizer.eos_token\n",
    "if tokenizer.pad_token is None:\n",
    "    tokenizer.add_special_tokens({'pad_token': '[PAD]'})\n",
    "\n",
    "def preprocess_function(examples):\n",
    "    articles = [\" \".join(article.split()) for article in examples[\"Article_Body\"]]\n",
    "    return tokenizer(articles, truncation=True)\n",
    "\n",
    "tokenized_mpm = flattened_mpm.map(\n",
    "    preprocess_function,\n",
    "    batched=True,\n",
    "    num_proc=4,\n",
    "    remove_columns=momentum[\"train\"].column_names,\n",
    ")\n",
    "\n",
    "block_size = 60\n",
    "\n",
    "def group_texts(examples):\n",
    "    concatenated_examples = {k: sum(examples[k], []) for k in examples.keys()}\n",
    "    total_length = len(concatenated_examples[list(examples.keys())[0]])\n",
    "    total_length = (total_length // block_size) * block_size\n",
    "    result = {\n",
    "        k: [t[i : i + block_size] for i in range(0, total_length, block_size)]\n",
    "        for k, t in concatenated_examples.items()\n",
    "    }\n",
    "    result[\"labels\"] = result[\"input_ids\"].copy()\n",
    "    return result\n",
    "\n",
    "mpm_dataset = tokenized_mpm.map(group_texts, batched=True, num_proc=4)\n",
    "data_collator = DataCollatorForLanguageModeling(tokenizer=tokenizer, mlm=False)\n",
    "\n",
    "# Define the hyperparameters and training arguments.\n",
    "training_args = TrainingArguments( \n",
    "    output_dir=\"gpt_model\",\n",
    "    overwrite_output_dir=True,\n",
    "    learning_rate=8e-5, # decreased learning rate\n",
    "    weight_decay=0.01,\n",
    "    num_train_epochs=900,\n",
    "    logging_steps=100000,\n",
    "    save_total_limit=2,\n",
    "    per_device_train_batch_size=16, # increased batch size\n",
    "    gradient_accumulation_steps=4, # added gradient accumulation\n",
    "    save_steps=10_000,\n",
    "    evaluation_strategy='no'\n",
    ")\n",
    "# Define the k-fold cross-validation scheme.\n",
    "k = 5\n",
    "kf = KFold(n_splits=k, shuffle=True, random_state=42)\n",
    "\n",
    "# Initialize an empty list to store the perplexity values.\n",
    "perplexity_values = []\n",
    "\n",
    "# Run the k-fold cross-validation.\n",
    "for i, (train_index, eval_index) in enumerate(kf.split(mpm_dataset[\"train\"])):\n",
    "    print(f\"\\n\\nFold {i+1} of {k}\\n\\n\")\n",
    "    \n",
    "    train_dataset = mpm_dataset[\"train\"].select(train_index)\n",
    "    eval_dataset = mpm_dataset[\"train\"].select(eval_index)\n",
    "    \n",
    "    # Load the model and initialize the trainer.\n",
    "    mpm_model = AutoModelForCausalLM.from_pretrained(\"gpt2\")\n",
    "    trainer = Trainer(\n",
    "        model=mpm_model,\n",
    "        args=training_args,\n",
    "        data_collator=data_collator,\n",
    "        train_dataset=train_dataset,\n",
    "    )\n",
    "    \n",
    "    # Train the model.\n",
    "    trainer.train()\n",
    "    \n",
    "    # Evaluate the model on the validation set.\n",
    "    eval_results = trainer.evaluate(eval_dataset)\n",
    "    perplexity = np.exp(eval_results[\"eval_loss\"])\n",
    "    perplexity_values.append(perplexity)\n",
    "    print(f\"Perplexity: {perplexity}\\n\\n\")\n",
    "    \n",
    "    # Save the model.\n",
    "    mpm_model.save_pretrained(f\"/scratch/kkonatha/model_validation\")\n",
    "    \n",
    "\n",
    "# Plot the perplexity values for each fold.\n",
    "plt.plot(range(1, k+1), perplexity_values, 'ro-')\n",
    "plt.xlabel('Fold')\n",
    "plt.ylabel('Perplexity')\n",
    "plt.title('Cross-validation results')\n",
    "plt.show()"
   ]
  }
 ],
 "metadata": {
  "kernelspec": {
   "display_name": "kk",
   "language": "python",
   "name": "kk"
  },
  "language_info": {
   "codemirror_mode": {
    "name": "ipython",
    "version": 3
   },
   "file_extension": ".py",
   "mimetype": "text/x-python",
   "name": "python",
   "nbconvert_exporter": "python",
   "pygments_lexer": "ipython3",
   "version": "3.9.9"
  }
 },
 "nbformat": 4,
 "nbformat_minor": 5
}
